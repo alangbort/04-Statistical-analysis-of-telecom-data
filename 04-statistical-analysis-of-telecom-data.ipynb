{
 "cells": [
  {
   "cell_type": "markdown",
   "id": "e102b325",
   "metadata": {},
   "source": [
    "# 1 Data overview"
   ]
  },
  {
   "cell_type": "markdown",
   "id": "e9a650ff",
   "metadata": {},
   "source": [
    "Let's have a quick glance at initial data\n",
    "\n",
    "Import necessary libraries"
   ]
  },
  {
   "cell_type": "code",
   "execution_count": 1,
   "id": "88ebe73a",
   "metadata": {},
   "outputs": [],
   "source": [
    "import pandas as pd\n",
    "import numpy as np\n",
    "import seaborn as sns\n",
    "import matplotlib.pyplot as plt\n",
    "import matplotlib.ticker as mticker\n",
    "from scipy import stats as st"
   ]
  },
  {
   "cell_type": "markdown",
   "id": "c9d6bb6f",
   "metadata": {},
   "source": [
    "Auxiliary function to simplify code reading"
   ]
  },
  {
   "cell_type": "code",
   "execution_count": 2,
   "id": "c983039f",
   "metadata": {},
   "outputs": [],
   "source": [
    "def read_and_describe(path, date_column=None):\n",
    "    result = pd.read_csv(path, parse_dates=date_column)\n",
    "       \n",
    "    display(result.sample(2))\n",
    "    print()\n",
    "    \n",
    "    result.info()\n",
    "    \n",
    "    return result"
   ]
  },
  {
   "cell_type": "code",
   "execution_count": 3,
   "id": "10e54ad1",
   "metadata": {},
   "outputs": [
    {
     "data": {
      "text/html": [
       "<div>\n",
       "<style scoped>\n",
       "    .dataframe tbody tr th:only-of-type {\n",
       "        vertical-align: middle;\n",
       "    }\n",
       "\n",
       "    .dataframe tbody tr th {\n",
       "        vertical-align: top;\n",
       "    }\n",
       "\n",
       "    .dataframe thead th {\n",
       "        text-align: right;\n",
       "    }\n",
       "</style>\n",
       "<table border=\"1\" class=\"dataframe\">\n",
       "  <thead>\n",
       "    <tr style=\"text-align: right;\">\n",
       "      <th></th>\n",
       "      <th>user_id</th>\n",
       "      <th>age</th>\n",
       "      <th>churn_date</th>\n",
       "      <th>city</th>\n",
       "      <th>first_name</th>\n",
       "      <th>last_name</th>\n",
       "      <th>reg_date</th>\n",
       "      <th>tariff</th>\n",
       "    </tr>\n",
       "  </thead>\n",
       "  <tbody>\n",
       "    <tr>\n",
       "      <th>100</th>\n",
       "      <td>1100</td>\n",
       "      <td>58</td>\n",
       "      <td>NaT</td>\n",
       "      <td>Санкт-Петербург</td>\n",
       "      <td>Руслан</td>\n",
       "      <td>Красильников</td>\n",
       "      <td>2018-07-02</td>\n",
       "      <td>smart</td>\n",
       "    </tr>\n",
       "    <tr>\n",
       "      <th>266</th>\n",
       "      <td>1266</td>\n",
       "      <td>32</td>\n",
       "      <td>NaT</td>\n",
       "      <td>Калуга</td>\n",
       "      <td>Тала</td>\n",
       "      <td>Антропова</td>\n",
       "      <td>2018-07-20</td>\n",
       "      <td>smart</td>\n",
       "    </tr>\n",
       "  </tbody>\n",
       "</table>\n",
       "</div>"
      ],
      "text/plain": [
       "     user_id  age churn_date             city first_name     last_name  \\\n",
       "100     1100   58        NaT  Санкт-Петербург     Руслан  Красильников   \n",
       "266     1266   32        NaT           Калуга       Тала     Антропова   \n",
       "\n",
       "      reg_date tariff  \n",
       "100 2018-07-02  smart  \n",
       "266 2018-07-20  smart  "
      ]
     },
     "metadata": {},
     "output_type": "display_data"
    },
    {
     "name": "stdout",
     "output_type": "stream",
     "text": [
      "\n",
      "<class 'pandas.core.frame.DataFrame'>\n",
      "RangeIndex: 500 entries, 0 to 499\n",
      "Data columns (total 8 columns):\n",
      " #   Column      Non-Null Count  Dtype         \n",
      "---  ------      --------------  -----         \n",
      " 0   user_id     500 non-null    int64         \n",
      " 1   age         500 non-null    int64         \n",
      " 2   churn_date  38 non-null     datetime64[ns]\n",
      " 3   city        500 non-null    object        \n",
      " 4   first_name  500 non-null    object        \n",
      " 5   last_name   500 non-null    object        \n",
      " 6   reg_date    500 non-null    datetime64[ns]\n",
      " 7   tariff      500 non-null    object        \n",
      "dtypes: datetime64[ns](2), int64(2), object(4)\n",
      "memory usage: 31.4+ KB\n"
     ]
    }
   ],
   "source": [
    "users = read_and_describe('users.csv', ['reg_date', 'churn_date'])"
   ]
  },
  {
   "cell_type": "code",
   "execution_count": 4,
   "id": "099d92f1",
   "metadata": {
    "scrolled": true
   },
   "outputs": [
    {
     "data": {
      "text/html": [
       "<div>\n",
       "<style scoped>\n",
       "    .dataframe tbody tr th:only-of-type {\n",
       "        vertical-align: middle;\n",
       "    }\n",
       "\n",
       "    .dataframe tbody tr th {\n",
       "        vertical-align: top;\n",
       "    }\n",
       "\n",
       "    .dataframe thead th {\n",
       "        text-align: right;\n",
       "    }\n",
       "</style>\n",
       "<table border=\"1\" class=\"dataframe\">\n",
       "  <thead>\n",
       "    <tr style=\"text-align: right;\">\n",
       "      <th></th>\n",
       "      <th>id</th>\n",
       "      <th>call_date</th>\n",
       "      <th>duration</th>\n",
       "      <th>user_id</th>\n",
       "    </tr>\n",
       "  </thead>\n",
       "  <tbody>\n",
       "    <tr>\n",
       "      <th>137735</th>\n",
       "      <td>1352_459</td>\n",
       "      <td>2018-08-08</td>\n",
       "      <td>13.84</td>\n",
       "      <td>1352</td>\n",
       "    </tr>\n",
       "    <tr>\n",
       "      <th>134196</th>\n",
       "      <td>1344_13</td>\n",
       "      <td>2018-08-06</td>\n",
       "      <td>2.33</td>\n",
       "      <td>1344</td>\n",
       "    </tr>\n",
       "  </tbody>\n",
       "</table>\n",
       "</div>"
      ],
      "text/plain": [
       "              id  call_date  duration  user_id\n",
       "137735  1352_459 2018-08-08     13.84     1352\n",
       "134196   1344_13 2018-08-06      2.33     1344"
      ]
     },
     "metadata": {},
     "output_type": "display_data"
    },
    {
     "name": "stdout",
     "output_type": "stream",
     "text": [
      "\n",
      "<class 'pandas.core.frame.DataFrame'>\n",
      "RangeIndex: 202607 entries, 0 to 202606\n",
      "Data columns (total 4 columns):\n",
      " #   Column     Non-Null Count   Dtype         \n",
      "---  ------     --------------   -----         \n",
      " 0   id         202607 non-null  object        \n",
      " 1   call_date  202607 non-null  datetime64[ns]\n",
      " 2   duration   202607 non-null  float64       \n",
      " 3   user_id    202607 non-null  int64         \n",
      "dtypes: datetime64[ns](1), float64(1), int64(1), object(1)\n",
      "memory usage: 6.2+ MB\n"
     ]
    }
   ],
   "source": [
    "calls = read_and_describe('calls.csv', ['call_date'])"
   ]
  },
  {
   "cell_type": "code",
   "execution_count": 5,
   "id": "7edebe83",
   "metadata": {},
   "outputs": [
    {
     "data": {
      "text/html": [
       "<div>\n",
       "<style scoped>\n",
       "    .dataframe tbody tr th:only-of-type {\n",
       "        vertical-align: middle;\n",
       "    }\n",
       "\n",
       "    .dataframe tbody tr th {\n",
       "        vertical-align: top;\n",
       "    }\n",
       "\n",
       "    .dataframe thead th {\n",
       "        text-align: right;\n",
       "    }\n",
       "</style>\n",
       "<table border=\"1\" class=\"dataframe\">\n",
       "  <thead>\n",
       "    <tr style=\"text-align: right;\">\n",
       "      <th></th>\n",
       "      <th>id</th>\n",
       "      <th>message_date</th>\n",
       "      <th>user_id</th>\n",
       "    </tr>\n",
       "  </thead>\n",
       "  <tbody>\n",
       "    <tr>\n",
       "      <th>92992</th>\n",
       "      <td>1382_453</td>\n",
       "      <td>2018-05-19</td>\n",
       "      <td>1382</td>\n",
       "    </tr>\n",
       "    <tr>\n",
       "      <th>106252</th>\n",
       "      <td>1430_327</td>\n",
       "      <td>2018-09-15</td>\n",
       "      <td>1430</td>\n",
       "    </tr>\n",
       "  </tbody>\n",
       "</table>\n",
       "</div>"
      ],
      "text/plain": [
       "              id message_date  user_id\n",
       "92992   1382_453   2018-05-19     1382\n",
       "106252  1430_327   2018-09-15     1430"
      ]
     },
     "metadata": {},
     "output_type": "display_data"
    },
    {
     "name": "stdout",
     "output_type": "stream",
     "text": [
      "\n",
      "<class 'pandas.core.frame.DataFrame'>\n",
      "RangeIndex: 123036 entries, 0 to 123035\n",
      "Data columns (total 3 columns):\n",
      " #   Column        Non-Null Count   Dtype         \n",
      "---  ------        --------------   -----         \n",
      " 0   id            123036 non-null  object        \n",
      " 1   message_date  123036 non-null  datetime64[ns]\n",
      " 2   user_id       123036 non-null  int64         \n",
      "dtypes: datetime64[ns](1), int64(1), object(1)\n",
      "memory usage: 2.8+ MB\n"
     ]
    }
   ],
   "source": [
    "messages = read_and_describe('messages.csv', ['message_date'])"
   ]
  },
  {
   "cell_type": "code",
   "execution_count": 6,
   "id": "4e634a95",
   "metadata": {},
   "outputs": [
    {
     "data": {
      "text/html": [
       "<div>\n",
       "<style scoped>\n",
       "    .dataframe tbody tr th:only-of-type {\n",
       "        vertical-align: middle;\n",
       "    }\n",
       "\n",
       "    .dataframe tbody tr th {\n",
       "        vertical-align: top;\n",
       "    }\n",
       "\n",
       "    .dataframe thead th {\n",
       "        text-align: right;\n",
       "    }\n",
       "</style>\n",
       "<table border=\"1\" class=\"dataframe\">\n",
       "  <thead>\n",
       "    <tr style=\"text-align: right;\">\n",
       "      <th></th>\n",
       "      <th>Unnamed: 0</th>\n",
       "      <th>id</th>\n",
       "      <th>mb_used</th>\n",
       "      <th>session_date</th>\n",
       "      <th>user_id</th>\n",
       "    </tr>\n",
       "  </thead>\n",
       "  <tbody>\n",
       "    <tr>\n",
       "      <th>134545</th>\n",
       "      <td>134545</td>\n",
       "      <td>1452_83</td>\n",
       "      <td>244.02</td>\n",
       "      <td>2018-09-05</td>\n",
       "      <td>1452</td>\n",
       "    </tr>\n",
       "    <tr>\n",
       "      <th>41477</th>\n",
       "      <td>41477</td>\n",
       "      <td>1145_213</td>\n",
       "      <td>0.00</td>\n",
       "      <td>2018-11-28</td>\n",
       "      <td>1145</td>\n",
       "    </tr>\n",
       "  </tbody>\n",
       "</table>\n",
       "</div>"
      ],
      "text/plain": [
       "        Unnamed: 0        id  mb_used session_date  user_id\n",
       "134545      134545   1452_83   244.02   2018-09-05     1452\n",
       "41477        41477  1145_213     0.00   2018-11-28     1145"
      ]
     },
     "metadata": {},
     "output_type": "display_data"
    },
    {
     "name": "stdout",
     "output_type": "stream",
     "text": [
      "\n",
      "<class 'pandas.core.frame.DataFrame'>\n",
      "RangeIndex: 149396 entries, 0 to 149395\n",
      "Data columns (total 5 columns):\n",
      " #   Column        Non-Null Count   Dtype         \n",
      "---  ------        --------------   -----         \n",
      " 0   Unnamed: 0    149396 non-null  int64         \n",
      " 1   id            149396 non-null  object        \n",
      " 2   mb_used       149396 non-null  float64       \n",
      " 3   session_date  149396 non-null  datetime64[ns]\n",
      " 4   user_id       149396 non-null  int64         \n",
      "dtypes: datetime64[ns](1), float64(1), int64(2), object(1)\n",
      "memory usage: 5.7+ MB\n"
     ]
    }
   ],
   "source": [
    "sessions = read_and_describe('internet.csv', ['session_date'])"
   ]
  },
  {
   "cell_type": "code",
   "execution_count": 7,
   "id": "0acd8d15",
   "metadata": {},
   "outputs": [
    {
     "data": {
      "text/html": [
       "<div>\n",
       "<style scoped>\n",
       "    .dataframe tbody tr th:only-of-type {\n",
       "        vertical-align: middle;\n",
       "    }\n",
       "\n",
       "    .dataframe tbody tr th {\n",
       "        vertical-align: top;\n",
       "    }\n",
       "\n",
       "    .dataframe thead th {\n",
       "        text-align: right;\n",
       "    }\n",
       "</style>\n",
       "<table border=\"1\" class=\"dataframe\">\n",
       "  <thead>\n",
       "    <tr style=\"text-align: right;\">\n",
       "      <th></th>\n",
       "      <th>messages_included</th>\n",
       "      <th>mb_per_month_included</th>\n",
       "      <th>minutes_included</th>\n",
       "      <th>rub_monthly_fee</th>\n",
       "      <th>rub_per_gb</th>\n",
       "      <th>rub_per_message</th>\n",
       "      <th>rub_per_minute</th>\n",
       "      <th>tariff_name</th>\n",
       "    </tr>\n",
       "  </thead>\n",
       "  <tbody>\n",
       "    <tr>\n",
       "      <th>0</th>\n",
       "      <td>50</td>\n",
       "      <td>15360</td>\n",
       "      <td>500</td>\n",
       "      <td>550</td>\n",
       "      <td>200</td>\n",
       "      <td>3</td>\n",
       "      <td>3</td>\n",
       "      <td>smart</td>\n",
       "    </tr>\n",
       "    <tr>\n",
       "      <th>1</th>\n",
       "      <td>1000</td>\n",
       "      <td>30720</td>\n",
       "      <td>3000</td>\n",
       "      <td>1950</td>\n",
       "      <td>150</td>\n",
       "      <td>1</td>\n",
       "      <td>1</td>\n",
       "      <td>ultra</td>\n",
       "    </tr>\n",
       "  </tbody>\n",
       "</table>\n",
       "</div>"
      ],
      "text/plain": [
       "   messages_included  mb_per_month_included  minutes_included  \\\n",
       "0                 50                  15360               500   \n",
       "1               1000                  30720              3000   \n",
       "\n",
       "   rub_monthly_fee  rub_per_gb  rub_per_message  rub_per_minute tariff_name  \n",
       "0              550         200                3               3       smart  \n",
       "1             1950         150                1               1       ultra  "
      ]
     },
     "metadata": {},
     "output_type": "display_data"
    },
    {
     "name": "stdout",
     "output_type": "stream",
     "text": [
      "\n",
      "<class 'pandas.core.frame.DataFrame'>\n",
      "RangeIndex: 2 entries, 0 to 1\n",
      "Data columns (total 8 columns):\n",
      " #   Column                 Non-Null Count  Dtype \n",
      "---  ------                 --------------  ----- \n",
      " 0   messages_included      2 non-null      int64 \n",
      " 1   mb_per_month_included  2 non-null      int64 \n",
      " 2   minutes_included       2 non-null      int64 \n",
      " 3   rub_monthly_fee        2 non-null      int64 \n",
      " 4   rub_per_gb             2 non-null      int64 \n",
      " 5   rub_per_message        2 non-null      int64 \n",
      " 6   rub_per_minute         2 non-null      int64 \n",
      " 7   tariff_name            2 non-null      object\n",
      "dtypes: int64(7), object(1)\n",
      "memory usage: 256.0+ bytes\n"
     ]
    }
   ],
   "source": [
    "tariffs = read_and_describe('tariffs.csv')"
   ]
  },
  {
   "cell_type": "markdown",
   "id": "a9c740af",
   "metadata": {},
   "source": [
    "## 1.1 Section 1 conclusions:"
   ]
  },
  {
   "cell_type": "markdown",
   "id": "8b4e86dd",
   "metadata": {},
   "source": [
    "- Input tables do have missing values\n",
    "- 38 out 500 values in users['churn_date'] means that the tariff was still in effect at the moment of data upload for other 462 users\n",
    "- Data columns are loaded correctly"
   ]
  },
  {
   "cell_type": "markdown",
   "id": "45555bf5",
   "metadata": {},
   "source": [
    "# 2 Data preprocessing"
   ]
  },
  {
   "cell_type": "markdown",
   "id": "9615103f",
   "metadata": {},
   "source": [
    "At this stage we need to calculate for each user the number of messages, MB of Internet and time of calls for the reporting period - month"
   ]
  },
  {
   "cell_type": "markdown",
   "id": "160533b4",
   "metadata": {},
   "source": [
    "And again let's add one more auxiliary function to simplify code"
   ]
  },
  {
   "cell_type": "code",
   "execution_count": 8,
   "id": "14b8aa50",
   "metadata": {},
   "outputs": [],
   "source": [
    "def spending_pr_month(df, date_column, agg_column, agg_func):\n",
    "    \n",
    "    # add a column with the month attribute because we have source data for 2018 only\n",
    "    df['month'] = df[date_column].dt.month\n",
    "    print('Initial dataframe + month column')\n",
    "    display(df.sample(3))\n",
    "    print('\\n')\n",
    "    \n",
    "    df_per_month = df.groupby(by=['user_id','month']).agg({agg_column: agg_func})\n",
    "    print('Aggregated by user and month')\n",
    "    display(df_per_month.sample(5))\n",
    "    \n",
    "    return df_per_month"
   ]
  },
  {
   "cell_type": "markdown",
   "id": "40c8b4d7",
   "metadata": {},
   "source": [
    "## 2.1 Table \"Calls\""
   ]
  },
  {
   "cell_type": "markdown",
   "id": "6e53b7d2",
   "metadata": {},
   "source": [
    "Let's see the distiribution of calls by duration (mins)"
   ]
  },
  {
   "cell_type": "code",
   "execution_count": 9,
   "id": "45db1d3b",
   "metadata": {
    "scrolled": false
   },
   "outputs": [
    {
     "data": {
      "image/png": "[encoded data removed]",
      "text/plain": [
       "<Figure size 1200x300 with 1 Axes>"
      ]
     },
     "metadata": {},
     "output_type": "display_data"
    }
   ],
   "source": [
    "plt.figure(figsize=(12, 3))\n",
    "\n",
    "calls['duration'].hist(bins=int(calls['duration'].max()))\n",
    "\n",
    "# Add axis names and the chart title\n",
    "plt.xlabel('Duration of call, mins')\n",
    "plt.ylabel('Number of calls')\n",
    "plt.title('Distribution of calls by duration')\n",
    "\n",
    "plt.grid(False)\n",
    "\n",
    "plt.show()"
   ]
  },
  {
   "cell_type": "code",
   "execution_count": 10,
   "id": "f3562f0f",
   "metadata": {},
   "outputs": [
    {
     "data": {
      "text/plain": [
       "0.00     39613\n",
       "4.49       142\n",
       "5.50       142\n",
       "6.15       141\n",
       "6.38       141\n",
       "         ...  \n",
       "26.94        1\n",
       "32.19        1\n",
       "26.32        1\n",
       "27.41        1\n",
       "26.90        1\n",
       "Name: duration, Length: 2871, dtype: int64"
      ]
     },
     "execution_count": 10,
     "metadata": {},
     "output_type": "execute_result"
    }
   ],
   "source": [
    "calls['duration'].value_counts()"
   ]
  },
  {
   "cell_type": "markdown",
   "id": "8564372d",
   "metadata": {},
   "source": [
    "- There are calls with zero duration. This is not an error: the zeros represent missed calls, so we will not remove them\n",
    "- The **duration** column of the **calls** dataframe has fractional values. Since **payment is based on minutes**, round the duration column values up using the numpy.ceil() method and convert the duration column to int type"
   ]
  },
  {
   "cell_type": "code",
   "execution_count": 11,
   "id": "e9efd6f9",
   "metadata": {},
   "outputs": [],
   "source": [
    "calls['duration'] = np.ceil(calls['duration']).astype('int')"
   ]
  },
  {
   "cell_type": "code",
   "execution_count": 12,
   "id": "eb0c67bd",
   "metadata": {},
   "outputs": [
    {
     "name": "stdout",
     "output_type": "stream",
     "text": [
      "Initial dataframe + month column\n"
     ]
    },
    {
     "data": {
      "text/html": [
       "<div>\n",
       "<style scoped>\n",
       "    .dataframe tbody tr th:only-of-type {\n",
       "        vertical-align: middle;\n",
       "    }\n",
       "\n",
       "    .dataframe tbody tr th {\n",
       "        vertical-align: top;\n",
       "    }\n",
       "\n",
       "    .dataframe thead th {\n",
       "        text-align: right;\n",
       "    }\n",
       "</style>\n",
       "<table border=\"1\" class=\"dataframe\">\n",
       "  <thead>\n",
       "    <tr style=\"text-align: right;\">\n",
       "      <th></th>\n",
       "      <th>id</th>\n",
       "      <th>call_date</th>\n",
       "      <th>duration</th>\n",
       "      <th>user_id</th>\n",
       "      <th>month</th>\n",
       "    </tr>\n",
       "  </thead>\n",
       "  <tbody>\n",
       "    <tr>\n",
       "      <th>156673</th>\n",
       "      <td>1386_188</td>\n",
       "      <td>2018-12-24</td>\n",
       "      <td>0</td>\n",
       "      <td>1386</td>\n",
       "      <td>12</td>\n",
       "    </tr>\n",
       "    <tr>\n",
       "      <th>133362</th>\n",
       "      <td>1341_592</td>\n",
       "      <td>2018-08-15</td>\n",
       "      <td>11</td>\n",
       "      <td>1341</td>\n",
       "      <td>8</td>\n",
       "    </tr>\n",
       "    <tr>\n",
       "      <th>85307</th>\n",
       "      <td>1213_353</td>\n",
       "      <td>2018-10-22</td>\n",
       "      <td>0</td>\n",
       "      <td>1213</td>\n",
       "      <td>10</td>\n",
       "    </tr>\n",
       "  </tbody>\n",
       "</table>\n",
       "</div>"
      ],
      "text/plain": [
       "              id  call_date  duration  user_id  month\n",
       "156673  1386_188 2018-12-24         0     1386     12\n",
       "133362  1341_592 2018-08-15        11     1341      8\n",
       "85307   1213_353 2018-10-22         0     1213     10"
      ]
     },
     "metadata": {},
     "output_type": "display_data"
    },
    {
     "name": "stdout",
     "output_type": "stream",
     "text": [
      "\n",
      "\n",
      "Aggregated by user and month\n"
     ]
    },
    {
     "data": {
      "text/html": [
       "<div>\n",
       "<style scoped>\n",
       "    .dataframe tbody tr th:only-of-type {\n",
       "        vertical-align: middle;\n",
       "    }\n",
       "\n",
       "    .dataframe tbody tr th {\n",
       "        vertical-align: top;\n",
       "    }\n",
       "\n",
       "    .dataframe thead th {\n",
       "        text-align: right;\n",
       "    }\n",
       "</style>\n",
       "<table border=\"1\" class=\"dataframe\">\n",
       "  <thead>\n",
       "    <tr style=\"text-align: right;\">\n",
       "      <th></th>\n",
       "      <th></th>\n",
       "      <th>duration</th>\n",
       "    </tr>\n",
       "    <tr>\n",
       "      <th>user_id</th>\n",
       "      <th>month</th>\n",
       "      <th></th>\n",
       "    </tr>\n",
       "  </thead>\n",
       "  <tbody>\n",
       "    <tr>\n",
       "      <th>1404</th>\n",
       "      <th>12</th>\n",
       "      <td>133</td>\n",
       "    </tr>\n",
       "    <tr>\n",
       "      <th>1340</th>\n",
       "      <th>8</th>\n",
       "      <td>479</td>\n",
       "    </tr>\n",
       "    <tr>\n",
       "      <th>1433</th>\n",
       "      <th>7</th>\n",
       "      <td>503</td>\n",
       "    </tr>\n",
       "    <tr>\n",
       "      <th>1419</th>\n",
       "      <th>11</th>\n",
       "      <td>456</td>\n",
       "    </tr>\n",
       "    <tr>\n",
       "      <th>1089</th>\n",
       "      <th>10</th>\n",
       "      <td>523</td>\n",
       "    </tr>\n",
       "  </tbody>\n",
       "</table>\n",
       "</div>"
      ],
      "text/plain": [
       "               duration\n",
       "user_id month          \n",
       "1404    12          133\n",
       "1340    8           479\n",
       "1433    7           503\n",
       "1419    11          456\n",
       "1089    10          523"
      ]
     },
     "metadata": {},
     "output_type": "display_data"
    }
   ],
   "source": [
    "minutes_per_month = spending_pr_month(calls, 'call_date', 'duration', 'sum')"
   ]
  },
  {
   "cell_type": "markdown",
   "id": "c43f2c21",
   "metadata": {},
   "source": [
    "## 2.2 Messages"
   ]
  },
  {
   "cell_type": "code",
   "execution_count": 13,
   "id": "6c842d55",
   "metadata": {},
   "outputs": [
    {
     "name": "stdout",
     "output_type": "stream",
     "text": [
      "Initial dataframe + month column\n"
     ]
    },
    {
     "data": {
      "text/html": [
       "<div>\n",
       "<style scoped>\n",
       "    .dataframe tbody tr th:only-of-type {\n",
       "        vertical-align: middle;\n",
       "    }\n",
       "\n",
       "    .dataframe tbody tr th {\n",
       "        vertical-align: top;\n",
       "    }\n",
       "\n",
       "    .dataframe thead th {\n",
       "        text-align: right;\n",
       "    }\n",
       "</style>\n",
       "<table border=\"1\" class=\"dataframe\">\n",
       "  <thead>\n",
       "    <tr style=\"text-align: right;\">\n",
       "      <th></th>\n",
       "      <th>id</th>\n",
       "      <th>message_date</th>\n",
       "      <th>user_id</th>\n",
       "      <th>month</th>\n",
       "    </tr>\n",
       "  </thead>\n",
       "  <tbody>\n",
       "    <tr>\n",
       "      <th>113535</th>\n",
       "      <td>1460_216</td>\n",
       "      <td>2018-07-27</td>\n",
       "      <td>1460</td>\n",
       "      <td>7</td>\n",
       "    </tr>\n",
       "    <tr>\n",
       "      <th>56403</th>\n",
       "      <td>1250_227</td>\n",
       "      <td>2018-10-23</td>\n",
       "      <td>1250</td>\n",
       "      <td>10</td>\n",
       "    </tr>\n",
       "    <tr>\n",
       "      <th>104082</th>\n",
       "      <td>1423_415</td>\n",
       "      <td>2018-08-14</td>\n",
       "      <td>1423</td>\n",
       "      <td>8</td>\n",
       "    </tr>\n",
       "  </tbody>\n",
       "</table>\n",
       "</div>"
      ],
      "text/plain": [
       "              id message_date  user_id  month\n",
       "113535  1460_216   2018-07-27     1460      7\n",
       "56403   1250_227   2018-10-23     1250     10\n",
       "104082  1423_415   2018-08-14     1423      8"
      ]
     },
     "metadata": {},
     "output_type": "display_data"
    },
    {
     "name": "stdout",
     "output_type": "stream",
     "text": [
      "\n",
      "\n",
      "Aggregated by user and month\n"
     ]
    },
    {
     "data": {
      "text/html": [
       "<div>\n",
       "<style scoped>\n",
       "    .dataframe tbody tr th:only-of-type {\n",
       "        vertical-align: middle;\n",
       "    }\n",
       "\n",
       "    .dataframe tbody tr th {\n",
       "        vertical-align: top;\n",
       "    }\n",
       "\n",
       "    .dataframe thead th {\n",
       "        text-align: right;\n",
       "    }\n",
       "</style>\n",
       "<table border=\"1\" class=\"dataframe\">\n",
       "  <thead>\n",
       "    <tr style=\"text-align: right;\">\n",
       "      <th></th>\n",
       "      <th></th>\n",
       "      <th>message_date</th>\n",
       "    </tr>\n",
       "    <tr>\n",
       "      <th>user_id</th>\n",
       "      <th>month</th>\n",
       "      <th></th>\n",
       "    </tr>\n",
       "  </thead>\n",
       "  <tbody>\n",
       "    <tr>\n",
       "      <th>1035</th>\n",
       "      <th>10</th>\n",
       "      <td>53</td>\n",
       "    </tr>\n",
       "    <tr>\n",
       "      <th>1473</th>\n",
       "      <th>12</th>\n",
       "      <td>20</td>\n",
       "    </tr>\n",
       "    <tr>\n",
       "      <th>1464</th>\n",
       "      <th>5</th>\n",
       "      <td>21</td>\n",
       "    </tr>\n",
       "    <tr>\n",
       "      <th>1407</th>\n",
       "      <th>11</th>\n",
       "      <td>28</td>\n",
       "    </tr>\n",
       "    <tr>\n",
       "      <th>1186</th>\n",
       "      <th>10</th>\n",
       "      <td>46</td>\n",
       "    </tr>\n",
       "  </tbody>\n",
       "</table>\n",
       "</div>"
      ],
      "text/plain": [
       "               message_date\n",
       "user_id month              \n",
       "1035    10               53\n",
       "1473    12               20\n",
       "1464    5                21\n",
       "1407    11               28\n",
       "1186    10               46"
      ]
     },
     "metadata": {},
     "output_type": "display_data"
    }
   ],
   "source": [
    "messages_per_month = spending_pr_month(messages, 'message_date', 'message_date', 'count')"
   ]
  },
  {
   "cell_type": "markdown",
   "id": "28abc2af",
   "metadata": {},
   "source": [
    "## 2.3 Sessions"
   ]
  },
  {
   "cell_type": "markdown",
   "id": "441990a3",
   "metadata": {},
   "source": [
    "Let's remove the ***Unnamed: 0*** column from the sessions dataframe. It will not be needed for further work."
   ]
  },
  {
   "cell_type": "code",
   "execution_count": 14,
   "id": "f1d04bfb",
   "metadata": {},
   "outputs": [],
   "source": [
    "sessions = sessions.drop(columns=['Unnamed: 0'])"
   ]
  },
  {
   "cell_type": "code",
   "execution_count": 15,
   "id": "90db87bb",
   "metadata": {},
   "outputs": [
    {
     "name": "stdout",
     "output_type": "stream",
     "text": [
      "Initial dataframe + month column\n"
     ]
    },
    {
     "data": {
      "text/html": [
       "<div>\n",
       "<style scoped>\n",
       "    .dataframe tbody tr th:only-of-type {\n",
       "        vertical-align: middle;\n",
       "    }\n",
       "\n",
       "    .dataframe tbody tr th {\n",
       "        vertical-align: top;\n",
       "    }\n",
       "\n",
       "    .dataframe thead th {\n",
       "        text-align: right;\n",
       "    }\n",
       "</style>\n",
       "<table border=\"1\" class=\"dataframe\">\n",
       "  <thead>\n",
       "    <tr style=\"text-align: right;\">\n",
       "      <th></th>\n",
       "      <th>id</th>\n",
       "      <th>mb_used</th>\n",
       "      <th>session_date</th>\n",
       "      <th>user_id</th>\n",
       "      <th>month</th>\n",
       "    </tr>\n",
       "  </thead>\n",
       "  <tbody>\n",
       "    <tr>\n",
       "      <th>50540</th>\n",
       "      <td>1173_189</td>\n",
       "      <td>0.00</td>\n",
       "      <td>2018-07-06</td>\n",
       "      <td>1173</td>\n",
       "      <td>7</td>\n",
       "    </tr>\n",
       "    <tr>\n",
       "      <th>34502</th>\n",
       "      <td>1120_74</td>\n",
       "      <td>1364.77</td>\n",
       "      <td>2018-04-05</td>\n",
       "      <td>1120</td>\n",
       "      <td>4</td>\n",
       "    </tr>\n",
       "    <tr>\n",
       "      <th>46020</th>\n",
       "      <td>1157_532</td>\n",
       "      <td>230.28</td>\n",
       "      <td>2018-06-24</td>\n",
       "      <td>1157</td>\n",
       "      <td>6</td>\n",
       "    </tr>\n",
       "  </tbody>\n",
       "</table>\n",
       "</div>"
      ],
      "text/plain": [
       "             id  mb_used session_date  user_id  month\n",
       "50540  1173_189     0.00   2018-07-06     1173      7\n",
       "34502   1120_74  1364.77   2018-04-05     1120      4\n",
       "46020  1157_532   230.28   2018-06-24     1157      6"
      ]
     },
     "metadata": {},
     "output_type": "display_data"
    },
    {
     "name": "stdout",
     "output_type": "stream",
     "text": [
      "\n",
      "\n",
      "Aggregated by user and month\n"
     ]
    },
    {
     "data": {
      "text/html": [
       "<div>\n",
       "<style scoped>\n",
       "    .dataframe tbody tr th:only-of-type {\n",
       "        vertical-align: middle;\n",
       "    }\n",
       "\n",
       "    .dataframe tbody tr th {\n",
       "        vertical-align: top;\n",
       "    }\n",
       "\n",
       "    .dataframe thead th {\n",
       "        text-align: right;\n",
       "    }\n",
       "</style>\n",
       "<table border=\"1\" class=\"dataframe\">\n",
       "  <thead>\n",
       "    <tr style=\"text-align: right;\">\n",
       "      <th></th>\n",
       "      <th></th>\n",
       "      <th>mb_used</th>\n",
       "    </tr>\n",
       "    <tr>\n",
       "      <th>user_id</th>\n",
       "      <th>month</th>\n",
       "      <th></th>\n",
       "    </tr>\n",
       "  </thead>\n",
       "  <tbody>\n",
       "    <tr>\n",
       "      <th>1253</th>\n",
       "      <th>11</th>\n",
       "      <td>16150.10</td>\n",
       "    </tr>\n",
       "    <tr>\n",
       "      <th>1321</th>\n",
       "      <th>3</th>\n",
       "      <td>13945.68</td>\n",
       "    </tr>\n",
       "    <tr>\n",
       "      <th>1083</th>\n",
       "      <th>7</th>\n",
       "      <td>17199.33</td>\n",
       "    </tr>\n",
       "    <tr>\n",
       "      <th>1284</th>\n",
       "      <th>4</th>\n",
       "      <td>15289.70</td>\n",
       "    </tr>\n",
       "    <tr>\n",
       "      <th>1324</th>\n",
       "      <th>9</th>\n",
       "      <td>23537.25</td>\n",
       "    </tr>\n",
       "  </tbody>\n",
       "</table>\n",
       "</div>"
      ],
      "text/plain": [
       "                mb_used\n",
       "user_id month          \n",
       "1253    11     16150.10\n",
       "1321    3      13945.68\n",
       "1083    7      17199.33\n",
       "1284    4      15289.70\n",
       "1324    9      23537.25"
      ]
     },
     "metadata": {},
     "output_type": "display_data"
    }
   ],
   "source": [
    "sessions_per_month = spending_pr_month(sessions, 'session_date', 'mb_used', 'sum')"
   ]
  },
  {
   "cell_type": "markdown",
   "id": "7f7df24b",
   "metadata": {},
   "source": [
    "# 3 Consolidation of user data and tariffs' comparison"
   ]
  },
  {
   "cell_type": "markdown",
   "id": "c63807df",
   "metadata": {},
   "source": [
    "## 3.1 Consolidation of user data"
   ]
  },
  {
   "cell_type": "markdown",
   "id": "2b37ac33",
   "metadata": {},
   "source": [
    "Combine all the values calculated above into one **user_behavior** dataframe. For each \"user-month\" pair, information about tariff, number of calls, messages and spent megabytes will be available"
   ]
  },
  {
   "cell_type": "code",
   "execution_count": 16,
   "id": "c84490e9",
   "metadata": {},
   "outputs": [
    {
     "data": {
      "text/html": [
       "<div>\n",
       "<style scoped>\n",
       "    .dataframe tbody tr th:only-of-type {\n",
       "        vertical-align: middle;\n",
       "    }\n",
       "\n",
       "    .dataframe tbody tr th {\n",
       "        vertical-align: top;\n",
       "    }\n",
       "\n",
       "    .dataframe thead th {\n",
       "        text-align: right;\n",
       "    }\n",
       "</style>\n",
       "<table border=\"1\" class=\"dataframe\">\n",
       "  <thead>\n",
       "    <tr style=\"text-align: right;\">\n",
       "      <th></th>\n",
       "      <th>user_id</th>\n",
       "      <th>month</th>\n",
       "      <th>duration</th>\n",
       "      <th>message_date</th>\n",
       "      <th>mb_used</th>\n",
       "      <th>age</th>\n",
       "      <th>churn_date</th>\n",
       "      <th>city</th>\n",
       "      <th>first_name</th>\n",
       "      <th>last_name</th>\n",
       "      <th>reg_date</th>\n",
       "      <th>tariff</th>\n",
       "    </tr>\n",
       "  </thead>\n",
       "  <tbody>\n",
       "    <tr>\n",
       "      <th>198</th>\n",
       "      <td>1031</td>\n",
       "      <td>11</td>\n",
       "      <td>665.0</td>\n",
       "      <td>25.0</td>\n",
       "      <td>11290.07</td>\n",
       "      <td>66</td>\n",
       "      <td>NaT</td>\n",
       "      <td>Москва</td>\n",
       "      <td>Лаврентий</td>\n",
       "      <td>Тимофеев</td>\n",
       "      <td>2018-11-02</td>\n",
       "      <td>smart</td>\n",
       "    </tr>\n",
       "    <tr>\n",
       "      <th>747</th>\n",
       "      <td>1118</td>\n",
       "      <td>3</td>\n",
       "      <td>547.0</td>\n",
       "      <td>NaN</td>\n",
       "      <td>10785.46</td>\n",
       "      <td>65</td>\n",
       "      <td>NaT</td>\n",
       "      <td>Казань</td>\n",
       "      <td>Вера</td>\n",
       "      <td>Латышева</td>\n",
       "      <td>2018-03-06</td>\n",
       "      <td>smart</td>\n",
       "    </tr>\n",
       "    <tr>\n",
       "      <th>2010</th>\n",
       "      <td>1317</td>\n",
       "      <td>12</td>\n",
       "      <td>709.0</td>\n",
       "      <td>34.0</td>\n",
       "      <td>13291.87</td>\n",
       "      <td>45</td>\n",
       "      <td>NaT</td>\n",
       "      <td>Москва</td>\n",
       "      <td>Всеволод</td>\n",
       "      <td>Зыков</td>\n",
       "      <td>2018-07-09</td>\n",
       "      <td>smart</td>\n",
       "    </tr>\n",
       "    <tr>\n",
       "      <th>2447</th>\n",
       "      <td>1383</td>\n",
       "      <td>12</td>\n",
       "      <td>285.0</td>\n",
       "      <td>9.0</td>\n",
       "      <td>10032.34</td>\n",
       "      <td>41</td>\n",
       "      <td>NaT</td>\n",
       "      <td>Ульяновск</td>\n",
       "      <td>Юна</td>\n",
       "      <td>Сомова</td>\n",
       "      <td>2018-10-24</td>\n",
       "      <td>smart</td>\n",
       "    </tr>\n",
       "    <tr>\n",
       "      <th>3018</th>\n",
       "      <td>1469</td>\n",
       "      <td>12</td>\n",
       "      <td>635.0</td>\n",
       "      <td>NaN</td>\n",
       "      <td>27762.83</td>\n",
       "      <td>41</td>\n",
       "      <td>NaT</td>\n",
       "      <td>Сочи</td>\n",
       "      <td>Аксён</td>\n",
       "      <td>Абалкин</td>\n",
       "      <td>2018-07-06</td>\n",
       "      <td>ultra</td>\n",
       "    </tr>\n",
       "  </tbody>\n",
       "</table>\n",
       "</div>"
      ],
      "text/plain": [
       "      user_id  month  duration  message_date   mb_used  age churn_date  \\\n",
       "198      1031     11     665.0          25.0  11290.07   66        NaT   \n",
       "747      1118      3     547.0           NaN  10785.46   65        NaT   \n",
       "2010     1317     12     709.0          34.0  13291.87   45        NaT   \n",
       "2447     1383     12     285.0           9.0  10032.34   41        NaT   \n",
       "3018     1469     12     635.0           NaN  27762.83   41        NaT   \n",
       "\n",
       "           city first_name last_name   reg_date tariff  \n",
       "198      Москва  Лаврентий  Тимофеев 2018-11-02  smart  \n",
       "747      Казань       Вера  Латышева 2018-03-06  smart  \n",
       "2010     Москва   Всеволод     Зыков 2018-07-09  smart  \n",
       "2447  Ульяновск        Юна    Сомова 2018-10-24  smart  \n",
       "3018       Сочи      Аксён   Абалкин 2018-07-06  ultra  "
      ]
     },
     "execution_count": 16,
     "metadata": {},
     "output_type": "execute_result"
    }
   ],
   "source": [
    "user_behavior = minutes_per_month\\\n",
    "    .merge(messages_per_month, left_index=True, right_index=True, how='outer')\\\n",
    "    .merge(sessions_per_month, left_index=True, right_index=True, how='outer')\\\n",
    "    .reset_index()\\\n",
    "    .merge(users, how='left', left_on='user_id', right_on='user_id')\\\n",
    "\n",
    "user_behavior.sample(5)"
   ]
  },
  {
   "cell_type": "markdown",
   "id": "6f76be99",
   "metadata": {},
   "source": [
    "Rename columns for convenience "
   ]
  },
  {
   "cell_type": "code",
   "execution_count": 17,
   "id": "c1ce43fb",
   "metadata": {
    "scrolled": true
   },
   "outputs": [
    {
     "data": {
      "text/html": [
       "<div>\n",
       "<style scoped>\n",
       "    .dataframe tbody tr th:only-of-type {\n",
       "        vertical-align: middle;\n",
       "    }\n",
       "\n",
       "    .dataframe tbody tr th {\n",
       "        vertical-align: top;\n",
       "    }\n",
       "\n",
       "    .dataframe thead th {\n",
       "        text-align: right;\n",
       "    }\n",
       "</style>\n",
       "<table border=\"1\" class=\"dataframe\">\n",
       "  <thead>\n",
       "    <tr style=\"text-align: right;\">\n",
       "      <th></th>\n",
       "      <th>user_id</th>\n",
       "      <th>month</th>\n",
       "      <th>minutes</th>\n",
       "      <th>messages</th>\n",
       "      <th>mb_used</th>\n",
       "      <th>age</th>\n",
       "      <th>churn_date</th>\n",
       "      <th>city</th>\n",
       "      <th>first_name</th>\n",
       "      <th>last_name</th>\n",
       "      <th>reg_date</th>\n",
       "      <th>tariff</th>\n",
       "    </tr>\n",
       "  </thead>\n",
       "  <tbody>\n",
       "    <tr>\n",
       "      <th>500</th>\n",
       "      <td>1079</td>\n",
       "      <td>11</td>\n",
       "      <td>560.0</td>\n",
       "      <td>33.0</td>\n",
       "      <td>7901.96</td>\n",
       "      <td>20</td>\n",
       "      <td>NaT</td>\n",
       "      <td>Москва</td>\n",
       "      <td>Еремей</td>\n",
       "      <td>Авроров</td>\n",
       "      <td>2018-05-15</td>\n",
       "      <td>smart</td>\n",
       "    </tr>\n",
       "    <tr>\n",
       "      <th>2751</th>\n",
       "      <td>1428</td>\n",
       "      <td>9</td>\n",
       "      <td>414.0</td>\n",
       "      <td>NaN</td>\n",
       "      <td>22313.42</td>\n",
       "      <td>42</td>\n",
       "      <td>NaT</td>\n",
       "      <td>Новосибирск</td>\n",
       "      <td>Камилла</td>\n",
       "      <td>Добрынина</td>\n",
       "      <td>2018-08-25</td>\n",
       "      <td>smart</td>\n",
       "    </tr>\n",
       "    <tr>\n",
       "      <th>2507</th>\n",
       "      <td>1392</td>\n",
       "      <td>9</td>\n",
       "      <td>377.0</td>\n",
       "      <td>38.0</td>\n",
       "      <td>21730.26</td>\n",
       "      <td>54</td>\n",
       "      <td>2018-09-27</td>\n",
       "      <td>Челябинск</td>\n",
       "      <td>Алла</td>\n",
       "      <td>Беликова</td>\n",
       "      <td>2018-02-27</td>\n",
       "      <td>ultra</td>\n",
       "    </tr>\n",
       "    <tr>\n",
       "      <th>431</th>\n",
       "      <td>1067</td>\n",
       "      <td>7</td>\n",
       "      <td>383.0</td>\n",
       "      <td>63.0</td>\n",
       "      <td>5774.90</td>\n",
       "      <td>45</td>\n",
       "      <td>NaT</td>\n",
       "      <td>Москва</td>\n",
       "      <td>Юзефа</td>\n",
       "      <td>Абашкина</td>\n",
       "      <td>2018-04-09</td>\n",
       "      <td>smart</td>\n",
       "    </tr>\n",
       "    <tr>\n",
       "      <th>2133</th>\n",
       "      <td>1337</td>\n",
       "      <td>4</td>\n",
       "      <td>197.0</td>\n",
       "      <td>11.0</td>\n",
       "      <td>23590.76</td>\n",
       "      <td>42</td>\n",
       "      <td>NaT</td>\n",
       "      <td>Вологда</td>\n",
       "      <td>Олег</td>\n",
       "      <td>Суслов</td>\n",
       "      <td>2018-01-15</td>\n",
       "      <td>smart</td>\n",
       "    </tr>\n",
       "  </tbody>\n",
       "</table>\n",
       "</div>"
      ],
      "text/plain": [
       "      user_id  month  minutes  messages   mb_used  age churn_date  \\\n",
       "500      1079     11    560.0      33.0   7901.96   20        NaT   \n",
       "2751     1428      9    414.0       NaN  22313.42   42        NaT   \n",
       "2507     1392      9    377.0      38.0  21730.26   54 2018-09-27   \n",
       "431      1067      7    383.0      63.0   5774.90   45        NaT   \n",
       "2133     1337      4    197.0      11.0  23590.76   42        NaT   \n",
       "\n",
       "             city first_name  last_name   reg_date tariff  \n",
       "500        Москва     Еремей    Авроров 2018-05-15  smart  \n",
       "2751  Новосибирск    Камилла  Добрынина 2018-08-25  smart  \n",
       "2507    Челябинск       Алла   Беликова 2018-02-27  ultra  \n",
       "431        Москва      Юзефа   Абашкина 2018-04-09  smart  \n",
       "2133      Вологда       Олег     Суслов 2018-01-15  smart  "
      ]
     },
     "execution_count": 17,
     "metadata": {},
     "output_type": "execute_result"
    }
   ],
   "source": [
    "user_behavior = user_behavior.rename(columns={'duration': 'minutes', 'message_date': 'messages'})\n",
    "\n",
    "user_behavior.sample(5)"
   ]
  },
  {
   "cell_type": "markdown",
   "id": "9a3e03ab",
   "metadata": {},
   "source": [
    "Let's determine the number of rows after merging"
   ]
  },
  {
   "cell_type": "code",
   "execution_count": 18,
   "id": "a35f3b78",
   "metadata": {},
   "outputs": [
    {
     "data": {
      "text/plain": [
       "3214"
      ]
     },
     "execution_count": 18,
     "metadata": {},
     "output_type": "execute_result"
    }
   ],
   "source": [
    "len(user_behavior)"
   ]
  },
  {
   "cell_type": "markdown",
   "id": "c6f6d7d3",
   "metadata": {},
   "source": [
    "Let's check the gaps in the `user_behavior` dataframe after the merge:"
   ]
  },
  {
   "cell_type": "code",
   "execution_count": 19,
   "id": "fbc87f5e",
   "metadata": {},
   "outputs": [
    {
     "data": {
      "text/plain": [
       "user_id          0\n",
       "month            0\n",
       "minutes         40\n",
       "messages       497\n",
       "mb_used         11\n",
       "age              0\n",
       "churn_date    3027\n",
       "city             0\n",
       "first_name       0\n",
       "last_name        0\n",
       "reg_date         0\n",
       "tariff           0\n",
       "dtype: int64"
      ]
     },
     "execution_count": 19,
     "metadata": {},
     "output_type": "execute_result"
    }
   ],
   "source": [
    "user_behavior.isna().sum()"
   ]
  },
  {
   "cell_type": "markdown",
   "id": "0c4a5002",
   "metadata": {},
   "source": [
    "Let's fill in the gaps in the data, considering them as absence of calls, sending messages or internet services"
   ]
  },
  {
   "cell_type": "code",
   "execution_count": 20,
   "id": "23ca337b",
   "metadata": {},
   "outputs": [],
   "source": [
    "user_behavior['minutes'] = user_behavior['minutes'].fillna(0)\n",
    "user_behavior['messages'] = user_behavior['messages'].fillna(0)\n",
    "user_behavior['mb_used'] = user_behavior['mb_used'].fillna(0)"
   ]
  },
  {
   "cell_type": "markdown",
   "id": "8c955f95",
   "metadata": {},
   "source": [
    "Let's add information about the tariffs"
   ]
  },
  {
   "cell_type": "code",
   "execution_count": 21,
   "id": "50b73dd9",
   "metadata": {},
   "outputs": [
    {
     "data": {
      "text/html": [
       "<div>\n",
       "<style scoped>\n",
       "    .dataframe tbody tr th:only-of-type {\n",
       "        vertical-align: middle;\n",
       "    }\n",
       "\n",
       "    .dataframe tbody tr th {\n",
       "        vertical-align: top;\n",
       "    }\n",
       "\n",
       "    .dataframe thead th {\n",
       "        text-align: right;\n",
       "    }\n",
       "</style>\n",
       "<table border=\"1\" class=\"dataframe\">\n",
       "  <thead>\n",
       "    <tr style=\"text-align: right;\">\n",
       "      <th></th>\n",
       "      <th>user_id</th>\n",
       "      <th>month</th>\n",
       "      <th>minutes</th>\n",
       "      <th>messages</th>\n",
       "      <th>mb_used</th>\n",
       "      <th>age</th>\n",
       "      <th>churn_date</th>\n",
       "      <th>city</th>\n",
       "      <th>first_name</th>\n",
       "      <th>last_name</th>\n",
       "      <th>reg_date</th>\n",
       "      <th>tariff</th>\n",
       "      <th>messages_included</th>\n",
       "      <th>mb_per_month_included</th>\n",
       "      <th>minutes_included</th>\n",
       "      <th>rub_monthly_fee</th>\n",
       "      <th>rub_per_gb</th>\n",
       "      <th>rub_per_message</th>\n",
       "      <th>rub_per_minute</th>\n",
       "    </tr>\n",
       "  </thead>\n",
       "  <tbody>\n",
       "    <tr>\n",
       "      <th>2240</th>\n",
       "      <td>1275</td>\n",
       "      <td>5</td>\n",
       "      <td>348.0</td>\n",
       "      <td>28.0</td>\n",
       "      <td>18692.93</td>\n",
       "      <td>48</td>\n",
       "      <td>NaT</td>\n",
       "      <td>Москва</td>\n",
       "      <td>Семён</td>\n",
       "      <td>Елизаров</td>\n",
       "      <td>2018-04-24</td>\n",
       "      <td>smart</td>\n",
       "      <td>50</td>\n",
       "      <td>15360</td>\n",
       "      <td>500</td>\n",
       "      <td>550</td>\n",
       "      <td>200</td>\n",
       "      <td>3</td>\n",
       "      <td>3</td>\n",
       "    </tr>\n",
       "    <tr>\n",
       "      <th>1828</th>\n",
       "      <td>1179</td>\n",
       "      <td>7</td>\n",
       "      <td>579.0</td>\n",
       "      <td>0.0</td>\n",
       "      <td>11467.51</td>\n",
       "      <td>43</td>\n",
       "      <td>NaT</td>\n",
       "      <td>Вологда</td>\n",
       "      <td>Дана</td>\n",
       "      <td>Астапенко</td>\n",
       "      <td>2018-04-19</td>\n",
       "      <td>smart</td>\n",
       "      <td>50</td>\n",
       "      <td>15360</td>\n",
       "      <td>500</td>\n",
       "      <td>550</td>\n",
       "      <td>200</td>\n",
       "      <td>3</td>\n",
       "      <td>3</td>\n",
       "    </tr>\n",
       "    <tr>\n",
       "      <th>2054</th>\n",
       "      <td>1228</td>\n",
       "      <td>9</td>\n",
       "      <td>428.0</td>\n",
       "      <td>0.0</td>\n",
       "      <td>11460.21</td>\n",
       "      <td>28</td>\n",
       "      <td>NaT</td>\n",
       "      <td>Нижний Новгород</td>\n",
       "      <td>Денис</td>\n",
       "      <td>Алфимов</td>\n",
       "      <td>2018-04-17</td>\n",
       "      <td>smart</td>\n",
       "      <td>50</td>\n",
       "      <td>15360</td>\n",
       "      <td>500</td>\n",
       "      <td>550</td>\n",
       "      <td>200</td>\n",
       "      <td>3</td>\n",
       "      <td>3</td>\n",
       "    </tr>\n",
       "  </tbody>\n",
       "</table>\n",
       "</div>"
      ],
      "text/plain": [
       "      user_id  month  minutes  messages   mb_used  age churn_date  \\\n",
       "2240     1275      5    348.0      28.0  18692.93   48        NaT   \n",
       "1828     1179      7    579.0       0.0  11467.51   43        NaT   \n",
       "2054     1228      9    428.0       0.0  11460.21   28        NaT   \n",
       "\n",
       "                 city first_name  last_name   reg_date tariff  \\\n",
       "2240           Москва      Семён   Елизаров 2018-04-24  smart   \n",
       "1828          Вологда       Дана  Астапенко 2018-04-19  smart   \n",
       "2054  Нижний Новгород      Денис    Алфимов 2018-04-17  smart   \n",
       "\n",
       "      messages_included  mb_per_month_included  minutes_included  \\\n",
       "2240                 50                  15360               500   \n",
       "1828                 50                  15360               500   \n",
       "2054                 50                  15360               500   \n",
       "\n",
       "      rub_monthly_fee  rub_per_gb  rub_per_message  rub_per_minute  \n",
       "2240              550         200                3               3  \n",
       "1828              550         200                3               3  \n",
       "2054              550         200                3               3  "
      ]
     },
     "execution_count": 21,
     "metadata": {},
     "output_type": "execute_result"
    }
   ],
   "source": [
    "# rename the **tariff_name** column to a simpler one: **tariff**\n",
    "\n",
    "tariffs = tariffs.rename( columns={'tariff_name': 'tariff'} )\n",
    "user_behavior = user_behavior.merge(tariffs, on='tariff')\n",
    "user_behavior.sample(3)"
   ]
  },
  {
   "cell_type": "markdown",
   "id": "7a0fbdb7",
   "metadata": {},
   "source": [
    "Count the number of talk minutes, messages and megabytes in surplus to those included in the tariff. If there are no excesses, we keep 0"
   ]
  },
  {
   "cell_type": "code",
   "execution_count": 22,
   "id": "f8d422ea",
   "metadata": {},
   "outputs": [],
   "source": [
    "user_behavior['paid_minutes'] = user_behavior['minutes'] - user_behavior['minutes_included']\n",
    "user_behavior['paid_messages'] = user_behavior['messages'] - user_behavior['messages_included']\n",
    "user_behavior['paid_mb'] = user_behavior['mb_used'] - user_behavior['mb_per_month_included']\n",
    "\n",
    "for col in ['paid_messages', 'paid_minutes', 'paid_mb']:\n",
    "    user_behavior.loc[user_behavior[col] < 0, col] = 0"
   ]
  },
  {
   "cell_type": "markdown",
   "id": "e75fd407",
   "metadata": {},
   "source": [
    "Convert megabytes exceeding the tariff into gigabytes and save them in the `paid_gb` column"
   ]
  },
  {
   "cell_type": "code",
   "execution_count": 23,
   "id": "362534de",
   "metadata": {},
   "outputs": [],
   "source": [
    "user_behavior['paid_gb'] = np.ceil(user_behavior['paid_mb'] / 1024).astype(int)"
   ]
  },
  {
   "cell_type": "markdown",
   "id": "bc151006",
   "metadata": {},
   "source": [
    "Calculate revenue per minutes of calls, messaging and internet services"
   ]
  },
  {
   "cell_type": "code",
   "execution_count": 24,
   "id": "7f423ad5",
   "metadata": {},
   "outputs": [],
   "source": [
    "user_behavior['cost_minutes'] = user_behavior['paid_minutes'] * user_behavior['rub_per_minute']\n",
    "user_behavior['cost_messages'] = user_behavior['paid_messages'] * user_behavior['rub_per_message']\n",
    "user_behavior['cost_gb'] = user_behavior['paid_gb'] * user_behavior['rub_per_gb']"
   ]
  },
  {
   "cell_type": "markdown",
   "id": "a004fe48",
   "metadata": {},
   "source": [
    "Calculate the monthly revenue from each user, it will be stored in the `total_cost` column"
   ]
  },
  {
   "cell_type": "code",
   "execution_count": 25,
   "id": "e4539d8c",
   "metadata": {},
   "outputs": [],
   "source": [
    "user_behavior['total_cost'] = user_behavior['rub_monthly_fee'] + user_behavior['cost_minutes']\\\n",
    "    + user_behavior['cost_messages'] + user_behavior['cost_gb']"
   ]
  },
  {
   "cell_type": "markdown",
   "id": "c489a017",
   "metadata": {},
   "source": [
    "## 3.2 Tariffs' comparison"
   ]
  },
  {
   "cell_type": "markdown",
   "id": "39fec6b9",
   "metadata": {},
   "source": [
    "When analyzing, let's not forget the disparity of data between tariffs by a factor of 2.3"
   ]
  },
  {
   "cell_type": "code",
   "execution_count": 26,
   "id": "a0fe5132",
   "metadata": {},
   "outputs": [
    {
     "data": {
      "text/plain": [
       "smart    2229\n",
       "ultra     985\n",
       "Name: tariff, dtype: int64"
      ]
     },
     "execution_count": 26,
     "metadata": {},
     "output_type": "execute_result"
    }
   ],
   "source": [
    "user_behavior['tariff'].value_counts()"
   ]
  },
  {
   "cell_type": "markdown",
   "id": "5133f1be",
   "metadata": {},
   "source": [
    "Let's save basic characteristics in the `stats_df` dataframe for each \"month-rate\" pair"
   ]
  },
  {
   "cell_type": "code",
   "execution_count": 27,
   "id": "f6a3c314",
   "metadata": {},
   "outputs": [
    {
     "data": {
      "text/html": [
       "<div>\n",
       "<style scoped>\n",
       "    .dataframe tbody tr th:only-of-type {\n",
       "        vertical-align: middle;\n",
       "    }\n",
       "\n",
       "    .dataframe tbody tr th {\n",
       "        vertical-align: top;\n",
       "    }\n",
       "\n",
       "    .dataframe thead th {\n",
       "        text-align: right;\n",
       "    }\n",
       "</style>\n",
       "<table border=\"1\" class=\"dataframe\">\n",
       "  <thead>\n",
       "    <tr style=\"text-align: right;\">\n",
       "      <th></th>\n",
       "      <th>month</th>\n",
       "      <th>tariff</th>\n",
       "      <th>mb_used_mean</th>\n",
       "      <th>messages_mean</th>\n",
       "      <th>minutes_mean</th>\n",
       "      <th>mb_used_std</th>\n",
       "      <th>messages_std</th>\n",
       "      <th>minutes_std</th>\n",
       "      <th>mb_used_median</th>\n",
       "      <th>messages_median</th>\n",
       "      <th>minutes_median</th>\n",
       "    </tr>\n",
       "  </thead>\n",
       "  <tbody>\n",
       "    <tr>\n",
       "      <th>14</th>\n",
       "      <td>8</td>\n",
       "      <td>smart</td>\n",
       "      <td>16610.72</td>\n",
       "      <td>33.64</td>\n",
       "      <td>421.47</td>\n",
       "      <td>5593.50</td>\n",
       "      <td>28.95</td>\n",
       "      <td>186.53</td>\n",
       "      <td>16833.49</td>\n",
       "      <td>27.0</td>\n",
       "      <td>432.0</td>\n",
       "    </tr>\n",
       "    <tr>\n",
       "      <th>2</th>\n",
       "      <td>2</td>\n",
       "      <td>smart</td>\n",
       "      <td>11597.05</td>\n",
       "      <td>24.09</td>\n",
       "      <td>298.69</td>\n",
       "      <td>6247.35</td>\n",
       "      <td>21.75</td>\n",
       "      <td>190.82</td>\n",
       "      <td>12553.71</td>\n",
       "      <td>20.0</td>\n",
       "      <td>258.0</td>\n",
       "    </tr>\n",
       "    <tr>\n",
       "      <th>18</th>\n",
       "      <td>10</td>\n",
       "      <td>smart</td>\n",
       "      <td>16757.12</td>\n",
       "      <td>33.77</td>\n",
       "      <td>426.14</td>\n",
       "      <td>5859.38</td>\n",
       "      <td>28.57</td>\n",
       "      <td>188.13</td>\n",
       "      <td>17225.34</td>\n",
       "      <td>30.0</td>\n",
       "      <td>427.5</td>\n",
       "    </tr>\n",
       "    <tr>\n",
       "      <th>17</th>\n",
       "      <td>9</td>\n",
       "      <td>ultra</td>\n",
       "      <td>19204.28</td>\n",
       "      <td>52.29</td>\n",
       "      <td>539.44</td>\n",
       "      <td>9486.09</td>\n",
       "      <td>46.40</td>\n",
       "      <td>325.14</td>\n",
       "      <td>19656.30</td>\n",
       "      <td>43.0</td>\n",
       "      <td>520.0</td>\n",
       "    </tr>\n",
       "    <tr>\n",
       "      <th>19</th>\n",
       "      <td>10</td>\n",
       "      <td>ultra</td>\n",
       "      <td>20045.34</td>\n",
       "      <td>58.43</td>\n",
       "      <td>558.08</td>\n",
       "      <td>9803.11</td>\n",
       "      <td>51.93</td>\n",
       "      <td>326.29</td>\n",
       "      <td>20338.15</td>\n",
       "      <td>49.0</td>\n",
       "      <td>533.0</td>\n",
       "    </tr>\n",
       "    <tr>\n",
       "      <th>10</th>\n",
       "      <td>6</td>\n",
       "      <td>smart</td>\n",
       "      <td>15794.65</td>\n",
       "      <td>33.40</td>\n",
       "      <td>395.64</td>\n",
       "      <td>5791.16</td>\n",
       "      <td>28.40</td>\n",
       "      <td>175.34</td>\n",
       "      <td>16077.44</td>\n",
       "      <td>28.0</td>\n",
       "      <td>400.0</td>\n",
       "    </tr>\n",
       "    <tr>\n",
       "      <th>11</th>\n",
       "      <td>6</td>\n",
       "      <td>ultra</td>\n",
       "      <td>18924.94</td>\n",
       "      <td>41.73</td>\n",
       "      <td>479.70</td>\n",
       "      <td>9292.88</td>\n",
       "      <td>44.57</td>\n",
       "      <td>302.55</td>\n",
       "      <td>19480.21</td>\n",
       "      <td>27.5</td>\n",
       "      <td>479.0</td>\n",
       "    </tr>\n",
       "  </tbody>\n",
       "</table>\n",
       "</div>"
      ],
      "text/plain": [
       "    month tariff  mb_used_mean  messages_mean  minutes_mean  mb_used_std  \\\n",
       "14      8  smart      16610.72          33.64        421.47      5593.50   \n",
       "2       2  smart      11597.05          24.09        298.69      6247.35   \n",
       "18     10  smart      16757.12          33.77        426.14      5859.38   \n",
       "17      9  ultra      19204.28          52.29        539.44      9486.09   \n",
       "19     10  ultra      20045.34          58.43        558.08      9803.11   \n",
       "10      6  smart      15794.65          33.40        395.64      5791.16   \n",
       "11      6  ultra      18924.94          41.73        479.70      9292.88   \n",
       "\n",
       "    messages_std  minutes_std  mb_used_median  messages_median  minutes_median  \n",
       "14         28.95       186.53        16833.49             27.0           432.0  \n",
       "2          21.75       190.82        12553.71             20.0           258.0  \n",
       "18         28.57       188.13        17225.34             30.0           427.5  \n",
       "17         46.40       325.14        19656.30             43.0           520.0  \n",
       "19         51.93       326.29        20338.15             49.0           533.0  \n",
       "10         28.40       175.34        16077.44             28.0           400.0  \n",
       "11         44.57       302.55        19480.21             27.5           479.0  "
      ]
     },
     "execution_count": 27,
     "metadata": {},
     "output_type": "execute_result"
    }
   ],
   "source": [
    "stats_df = user_behavior.pivot_table( index=['month', 'tariff'], values=['minutes', 'messages', 'mb_used'],\\\n",
    "            aggfunc=['mean', 'std', 'median']).round(2).reset_index()\n",
    "\n",
    "stats_df.columns=['month', 'tariff', 'mb_used_mean', 'messages_mean', 'minutes_mean',\n",
    "                                     'mb_used_std', 'messages_std', 'minutes_std', \n",
    "                                     'mb_used_median', 'messages_median',  'minutes_median']\n",
    "\n",
    "stats_df.sample(7)"
   ]
  },
  {
   "cell_type": "markdown",
   "id": "d587f76b",
   "metadata": {},
   "source": [
    "And again let's add one more auxiliary function to simplify code"
   ]
  },
  {
   "cell_type": "code",
   "execution_count": 28,
   "id": "03d86e31",
   "metadata": {},
   "outputs": [],
   "source": [
    "def charts_for_tariffs(data, item, binwidth):\n",
    "    \n",
    "    # The first chart\n",
    "    plt.figure(figsize=(15, 3))\n",
    "    \n",
    "    y = item + '_mean'\n",
    "    ax = sns.barplot(x='month', y=y, hue=\"tariff\", data=data, palette=['lightgrey', 'lightgreen'])\n",
    "\n",
    "    ax.set_title('Distribution of average ' + item + ' by tariff type and month')\n",
    "    ax.set(xlabel='Month', ylabel='Average ' + item)\n",
    "    \n",
    "    plt.legend(loc='lower right')\n",
    "\n",
    "    plt.show()\n",
    "    \n",
    "    \n",
    "    # The second chart\n",
    "    plt.figure(figsize=(15, 3))\n",
    "    \n",
    "    ax1 = sns.histplot(data=user_behavior[user_behavior['tariff'] =='smart'][item],\\\n",
    "                       binwidth=binwidth, alpha=0.6, color='lightgrey', label='smart', stat='percent', edgecolor=\"white\")\n",
    "    \n",
    "    ax1 = sns.histplot(data=user_behavior[user_behavior['tariff'] =='ultra'][item],\\\n",
    "                       binwidth=binwidth, alpha=0.6, color='lightgreen', label='ultra', stat='percent', edgecolor=\"white\")\n",
    "    \n",
    "    ax1.set_title('Distribution of ' + item + ' by tariff type and pairs \"user-month\" (relative values)')\n",
    "    ax1.set(xlabel=item, ylabel='% of pairs \"user-month\"')\n",
    "\n",
    "\n",
    "    plt.grid(False)\n",
    "\n",
    "    plt.legend()\n",
    "\n",
    "    plt.show()"
   ]
  },
  {
   "cell_type": "markdown",
   "id": "454ce6cc",
   "metadata": {},
   "source": [
    "### 3.2.1 Comparison of spent minutes among Smart and Ultra tariff users"
   ]
  },
  {
   "cell_type": "code",
   "execution_count": 29,
   "id": "8715ebb8",
   "metadata": {},
   "outputs": [
    {
     "data": {
      "image/png": "[encoded data removed]",
      "text/plain": [
       "<Figure size 1500x300 with 1 Axes>"
      ]
     },
     "metadata": {},
     "output_type": "display_data"
    },
    {
     "data": {
      "image/png": "[encoded data removed]",
      "text/plain": [
       "<Figure size 1500x300 with 1 Axes>"
      ]
     },
     "metadata": {},
     "output_type": "display_data"
    }
   ],
   "source": [
    "charts_for_tariffs(stats_df, 'minutes', 50)"
   ]
  },
  {
   "cell_type": "markdown",
   "id": "b4357287",
   "metadata": {},
   "source": [
    "Comments on the charts:\n",
    "\n",
    "- the first chart:\n",
    "    - users of both tariffs increase the average call duration from January to December;\n",
    "    - the average call duration of for Ultra tariff subscribers is longer than for Smart tariff subscribers;\n",
    "    - subscribers of both tariff plans had the lowest rates in February (it might be caused by the least number of days)\n",
    "    \n",
    "    \n",
    "- the second chart:\n",
    "    - for **smart** tariff users, we see that the distribution of call minutes during the month is unimodal with a peak around 450-500 minutes, concentrated in the segment 0 - 800;\n",
    "    - for **ultra** tariff users, we see that the distribution of minutes for calls during the month is tri-modal with peaks around 0, 500-550, 800-850 minutes, concentrated in the segment 0 - 1350."
   ]
  },
  {
   "cell_type": "markdown",
   "id": "e2c5dd05",
   "metadata": {},
   "source": [
    "### 3.2.2 Comparison of spent messages among Smart and Ultra tariff users"
   ]
  },
  {
   "cell_type": "code",
   "execution_count": 30,
   "id": "6e6f53d2",
   "metadata": {},
   "outputs": [
    {
     "data": {
      "image/png": "[encoded data removed]",
      "text/plain": [
       "<Figure size 1500x300 with 1 Axes>"
      ]
     },
     "metadata": {},
     "output_type": "display_data"
    },
    {
     "data": {
      "image/png": "[encoded data removed]",
      "text/plain": [
       "<Figure size 1500x300 with 1 Axes>"
      ]
     },
     "metadata": {},
     "output_type": "display_data"
    }
   ],
   "source": [
    "charts_for_tariffs(stats_df, 'messages', 10)"
   ]
  },
  {
   "cell_type": "markdown",
   "id": "89f7a411",
   "metadata": {},
   "source": [
    "Comments on the charts:\n",
    "\n",
    "- the first chart:\n",
    "    - **ultra** tariff users increased the average message number in about 2 times from January to December;\n",
    "    - **smart** tariff users had plato between 31-36 messages per month since March;\n",
    "    \n",
    "    \n",
    "- the second chart:\n",
    "    - 24%-27% pairs \"user-month\" of **smart** and **ultra** tariffs had less than 10 messages per month."
   ]
  },
  {
   "cell_type": "markdown",
   "id": "e7bc21de",
   "metadata": {},
   "source": [
    "### 3.2.3 Comparison of spent gigabytes among Smart and Ultra tariff users"
   ]
  },
  {
   "cell_type": "code",
   "execution_count": 31,
   "id": "ba791c75",
   "metadata": {},
   "outputs": [
    {
     "data": {
      "image/png": "[encoded data removed]",
      "text/plain": [
       "<Figure size 1500x300 with 1 Axes>"
      ]
     },
     "metadata": {},
     "output_type": "display_data"
    },
    {
     "data": {
      "image/png": "[encoded data removed]",
      "text/plain": [
       "<Figure size 1500x300 with 1 Axes>"
      ]
     },
     "metadata": {},
     "output_type": "display_data"
    }
   ],
   "source": [
    "charts_for_tariffs(stats_df, 'mb_used', 1024)"
   ]
  },
  {
   "cell_type": "markdown",
   "id": "455962c7",
   "metadata": {},
   "source": [
    "Comments on the charts:\n",
    "\n",
    "- the first chart:\n",
    "    - **ultra** tariff users increased the average monthly internet consuming by near 50% from January to December;\n",
    "    - **smart** tariff users also increased the average internet consuming by near 100%;\n",
    "    \n",
    "    \n",
    "- the second chart:\n",
    "    - The distribution of **spent Internet traffic** is similar to the distribution of minutes: **ultra** tariff users had a multimodal distribution over a wide segment (0-34 GB), while **smart** tariff users had a marked unimodal distribution over a narrower segment (0-29 GB)."
   ]
  },
  {
   "cell_type": "markdown",
   "id": "3df629b2",
   "metadata": {},
   "source": [
    "# 4 Statistical hypothesis testing"
   ]
  },
  {
   "cell_type": "markdown",
   "id": "8df62517",
   "metadata": {},
   "source": [
    "Let's describe an auxiliary function to simplify code in this section"
   ]
  },
  {
   "cell_type": "code",
   "execution_count": 32,
   "id": "8372d779",
   "metadata": {},
   "outputs": [],
   "source": [
    "def testing(df_1, df_2, alpha):\n",
    "    \n",
    "    # alpha = set significance level value\n",
    "    \n",
    "    results = st.ttest_ind(df_1, df_2, equal_var=False)\n",
    "\n",
    "    # p-value output\n",
    "    print('p-value: {0}\\n'.format(results.pvalue))\n",
    "    \n",
    "    # Сonditional operator with the output of the answer whether the null hypothesis is true or not\n",
    "    if results.pvalue < alpha:\n",
    "        print('Rejecting the null hypothesis')\n",
    "    else:\n",
    "        print('Failed to reject the null hypothesis')"
   ]
  },
  {
   "cell_type": "markdown",
   "id": "380083fb",
   "metadata": {},
   "source": [
    "## 4.1 Hypothesis testing: average revenue of **\"ultra\"** and **\"smart\"** users are different;\n",
    "\n",
    "    H_0: Revenue (total_cost) of \"ultra\" users = revenue (total_cost) of \"smart\" users\n",
    "    H_1: Revenue (total_cost) of \"ultra\" users ≠ revenue (total_cost) of \"smart\" users"
   ]
  },
  {
   "cell_type": "code",
   "execution_count": 33,
   "id": "14915e85",
   "metadata": {},
   "outputs": [
    {
     "name": "stdout",
     "output_type": "stream",
     "text": [
      "p-value: 4.2606313931076085e-250\n",
      "\n",
      "Rejecting the null hypothesis\n"
     ]
    }
   ],
   "source": [
    "ultra_set = user_behavior[user_behavior['tariff'] == 'ultra']['total_cost']\n",
    "smart_set = user_behavior[user_behavior['tariff'] == 'smart']['total_cost']\n",
    "\n",
    "testing(ultra_set, smart_set, 0.05)"
   ]
  },
  {
   "cell_type": "markdown",
   "id": "c7a3ccdf",
   "metadata": {},
   "source": [
    "## 4.2 Hypothesis testing: users from Moscow bring more revenue than users from other cities;\n",
    "\n",
    "    H_0: Revenue (total_cost) of Moscow users = revenue (total_cost) of non-Moscow users\n",
    "    H_1: Revenue (total_cost) of Moscow users ≠ revenue (total_cost) of non-Moscow users"
   ]
  },
  {
   "cell_type": "code",
   "execution_count": 34,
   "id": "e6950351",
   "metadata": {},
   "outputs": [
    {
     "name": "stdout",
     "output_type": "stream",
     "text": [
      "p-value: 0.5257376663729298\n",
      "\n",
      "Failed to reject the null hypothesis\n"
     ]
    }
   ],
   "source": [
    "moscow_subset = user_behavior[user_behavior['city'] == 'Москва']['total_cost']\n",
    "other_subset = user_behavior[user_behavior['city'] != 'Москва']['total_cost']\n",
    "\n",
    "testing(moscow_subset, other_subset, 0.05)"
   ]
  }
 ],
 "metadata": {
  "kernelspec": {
   "display_name": "Python 3 (ipykernel)",
   "language": "python",
   "name": "python3"
  },
  "language_info": {
   "codemirror_mode": {
    "name": "ipython",
    "version": 3
   },
   "file_extension": ".py",
   "mimetype": "text/x-python",
   "name": "python",
   "nbconvert_exporter": "python",
   "pygments_lexer": "ipython3",
   "version": "3.9.13"
  },
  "toc": {
   "base_numbering": 1,
   "nav_menu": {},
   "number_sections": true,
   "sideBar": true,
   "skip_h1_title": false,
   "title_cell": "Table of Contents",
   "title_sidebar": "Contents",
   "toc_cell": false,
   "toc_position": {},
   "toc_section_display": true,
   "toc_window_display": false
  }
 },
 "nbformat": 4,
 "nbformat_minor": 5
}
